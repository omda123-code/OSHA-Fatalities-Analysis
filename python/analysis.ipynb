{
 "cells": [
  {
   "cell_type": "code",
   "execution_count": 1,
   "id": "140474ca-5e48-420b-b798-0a3afedd2518",
   "metadata": {},
   "outputs": [],
   "source": [
    "import os\n",
    "import re\n",
    "from collections import Counter\n",
    "from datetime import datetime\n",
    "\n",
    "import numpy as np\n",
    "import pandas as pd\n",
    "import matplotlib.pyplot as plt\n",
    "import seaborn as sns"
   ]
  },
  {
   "cell_type": "code",
   "execution_count": 2,
   "id": "0d05ab22-1585-41ed-b379-5d2b8b63151e",
   "metadata": {},
   "outputs": [],
   "source": [
    "# ---------------------------\n",
    "# Configuration\n",
    "# ---------------------------\n",
    "DATA_PATH = \"osha_fatalities.csv\"   # غيّر هذا إلى مسار ملفك\n",
    "PLOTS_DIR = \"plots\"\n",
    "\n",
    "# Create plots directory\n",
    "os.makedirs(PLOTS_DIR, exist_ok=True)"
   ]
  },
  {
   "cell_type": "code",
   "execution_count": 4,
   "id": "413ae862-025c-4f37-8008-4a728b5d1a70",
   "metadata": {},
   "outputs": [
    {
     "name": "stderr",
     "output_type": "stream",
     "text": [
      "C:\\Users\\Ismail\\AppData\\Local\\Temp\\ipykernel_21488\\4155375364.py:4: FutureWarning: The argument 'infer_datetime_format' is deprecated and will be removed in a future version. A strict version of it is now the default, see https://pandas.pydata.org/pdeps/0004-consistent-to-datetime-parsing.html. You can safely remove this argument.\n",
      "  df = pd.read_csv(DATA_PATH, parse_dates=['incident_date'], dayfirst=False, infer_datetime_format=True)\n"
     ]
    }
   ],
   "source": [
    "# ---------------------------\n",
    "# Load data\n",
    "# ---------------------------\n",
    "df = pd.read_csv(DATA_PATH, parse_dates=['incident_date'], dayfirst=False, infer_datetime_format=True)\n",
    "\n",
    "# Normalize text columns to lowercase for robust matching\n",
    "text_cols = ['description', 'plan', 'citation', 'city', 'state', 'day_of_week']\n",
    "for c in text_cols:\n",
    "    if c in df.columns:\n",
    "        df[c] = df[c].astype(str).str.strip().str.lower()\n",
    "    else:\n",
    "        # create missing columns to avoid KeyError later\n",
    "        df[c] = \"\""
   ]
  },
  {
   "cell_type": "code",
   "execution_count": 5,
   "id": "6685286d-7e45-4f06-b55e-8868dcad5264",
   "metadata": {},
   "outputs": [],
   "source": [
    "# Ensure incident_date is datetime and create derived columns\n",
    "df['incident_date'] = pd.to_datetime(df['incident_date'], errors='coerce')\n",
    "df = df[~df['incident_date'].isna()].copy()  # drop rows with invalid dates\n",
    "df['year'] = df['incident_date'].dt.year\n",
    "df['month'] = df['incident_date'].dt.month\n",
    "df['month_name'] = df['incident_date'].dt.strftime('%b')\n",
    "df['quarter'] = df['incident_date'].dt.to_period('Q').astype(str)\n",
    "df['ym'] = df['incident_date'].dt.to_period('M').astype(str)"
   ]
  },
  {
   "cell_type": "code",
   "execution_count": 6,
   "id": "da6a28b2-7554-4bf5-82d7-2dfcc4a358e9",
   "metadata": {},
   "outputs": [],
   "source": [
    "# Helper: save figure\n",
    "def save_fig(fig, fname, dpi=150):\n",
    "    path = os.path.join(PLOTS_DIR, fname)\n",
    "    fig.savefig(path, bbox_inches='tight', dpi=dpi)\n",
    "    plt.close(fig)\n",
    "    return path"
   ]
  },
  {
   "cell_type": "code",
   "execution_count": 7,
   "id": "70ba389d-2731-4b3c-8c6c-3757531d8620",
   "metadata": {},
   "outputs": [
    {
     "data": {
      "text/plain": [
       "'plots\\\\01_yearly_trend.png'"
      ]
     },
     "execution_count": 7,
     "metadata": {},
     "output_type": "execute_result"
    }
   ],
   "source": [
    "# ---------------------------\n",
    "# 1 Yearly trend of fatal incidents (line)\n",
    "# ---------------------------\n",
    "yearly = df.groupby('year').size().reset_index(name='total')\n",
    "fig = plt.figure(figsize=(10,5))\n",
    "sns.lineplot(data=yearly, x='year', y='total', marker='o')\n",
    "plt.title('Yearly Trend of Fatal Incidents')\n",
    "plt.xlabel('Year')\n",
    "plt.ylabel('Total Incidents')\n",
    "save_fig(fig, '01_yearly_trend.png')"
   ]
  },
  {
   "cell_type": "code",
   "execution_count": 8,
   "id": "a2651ecd-e673-416a-8cf6-ab047d895b43",
   "metadata": {},
   "outputs": [
    {
     "data": {
      "text/plain": [
       "'plots\\\\02_day_of_week.png'"
      ]
     },
     "execution_count": 8,
     "metadata": {},
     "output_type": "execute_result"
    }
   ],
   "source": [
    "# ---------------------------\n",
    "# 2 Day of week fatalities (bar)\n",
    "# ---------------------------\n",
    "dow_order = ['monday','tuesday','wednesday','thursday','friday','saturday','sunday']\n",
    "dow_counts = df['day_of_week'].value_counts().reindex(dow_order).fillna(0)\n",
    "fig = plt.figure(figsize=(9,5))\n",
    "sns.barplot(x=dow_counts.index, y=dow_counts.values)\n",
    "plt.title('Fatalities by Day of Week')\n",
    "plt.xlabel('Day of Week')\n",
    "plt.ylabel('Count')\n",
    "plt.xticks(rotation=20)\n",
    "save_fig(fig, '02_day_of_week.png')"
   ]
  },
  {
   "cell_type": "code",
   "execution_count": 9,
   "id": "36b56fb8-0960-456b-ad96-18c284469a67",
   "metadata": {},
   "outputs": [
    {
     "data": {
      "text/plain": [
       "'plots\\\\03_top_states.png'"
      ]
     },
     "execution_count": 9,
     "metadata": {},
     "output_type": "execute_result"
    }
   ],
   "source": [
    "# ---------------------------\n",
    "# 3 Top 15 states with the highest fatalities (bar)\n",
    "# ---------------------------\n",
    "top_states = df['state'].value_counts().head(15)\n",
    "fig = plt.figure(figsize=(10,6))\n",
    "sns.barplot(y=top_states.index, x=top_states.values)\n",
    "plt.title('Top 15 States by Fatalities')\n",
    "plt.xlabel('Total Incidents')\n",
    "plt.ylabel('State')\n",
    "save_fig(fig, '03_top_states.png')"
   ]
  },
  {
   "cell_type": "code",
   "execution_count": 10,
   "id": "ff5f9a98-9778-4513-816a-37879750f9a5",
   "metadata": {},
   "outputs": [
    {
     "data": {
      "text/plain": [
       "'plots\\\\04_top_cities.png'"
      ]
     },
     "execution_count": 10,
     "metadata": {},
     "output_type": "execute_result"
    }
   ],
   "source": [
    "# ---------------------------\n",
    "# 4 Top 15 cities with the highest fatalities (bar)\n",
    "# ---------------------------\n",
    "top_cities = df['city'].value_counts().head(15)\n",
    "fig = plt.figure(figsize=(10,6))\n",
    "sns.barplot(y=top_cities.index, x=top_cities.values)\n",
    "plt.title('Top 15 Cities by Fatalities')\n",
    "plt.xlabel('Total Incidents')\n",
    "plt.ylabel('City')\n",
    "save_fig(fig, '04_top_cities.png')"
   ]
  },
  {
   "cell_type": "code",
   "execution_count": 12,
   "id": "08235073-8fa0-4684-a31f-7decee3f01ea",
   "metadata": {},
   "outputs": [],
   "source": [
    "# ---------------------------\n",
    "# 5 Count of \"fall\" keyword in descriptions\n",
    "# ---------------------------\n",
    "fall_count = df['description'].str.contains(r'\\bfall\\b', na=False).sum()\n",
    "with open(os.path.join(PLOTS_DIR, '05_fall_count.txt'), 'w') as f:\n",
    "    f.write(f'Number of incidents mentioning \"fall\": {fall_count}\\n')"
   ]
  },
  {
   "cell_type": "code",
   "execution_count": 13,
   "id": "46633bcd-fcc4-4131-a52f-847c387a0b51",
   "metadata": {},
   "outputs": [
    {
     "data": {
      "text/plain": [
       "'plots\\\\06_monthly_distribution.png'"
      ]
     },
     "execution_count": 13,
     "metadata": {},
     "output_type": "execute_result"
    }
   ],
   "source": [
    "# ---------------------------\n",
    "# 6 Distribution by month (bar)\n",
    "# ---------------------------\n",
    "month_order = list(range(1,13))\n",
    "monthly = df.groupby('month').size().reindex(month_order, fill_value=0).reset_index()\n",
    "monthly.columns = ['month', 'count']\n",
    "fig = plt.figure(figsize=(10,5))\n",
    "sns.barplot(x='month', y='count', data=monthly)\n",
    "plt.title('Fatalities by Month')\n",
    "plt.xlabel('Month')\n",
    "plt.ylabel('Total Incidents')\n",
    "save_fig(fig, '06_monthly_distribution.png')"
   ]
  },
  {
   "cell_type": "code",
   "execution_count": 14,
   "id": "b6c15ce6-f243-4892-bbe0-5b7c0160fde4",
   "metadata": {},
   "outputs": [
    {
     "data": {
      "text/plain": [
       "'plots\\\\07_unknown_plans_pct.png'"
      ]
     },
     "execution_count": 14,
     "metadata": {},
     "output_type": "execute_result"
    }
   ],
   "source": [
    "# ---------------------------\n",
    "# 7 States with highest % of unknown plans (bar)\n",
    "# ---------------------------\n",
    "state_totals = df.groupby('state').size().rename('total')\n",
    "state_unknown = df[df['plan']=='unknown'].groupby('state').size().rename('unknown')\n",
    "state_summary = pd.concat([state_totals, state_unknown], axis=1).fillna(0)\n",
    "state_summary['pct_unknown'] = 100.0 * state_summary['unknown'] / state_summary['total']\n",
    "state_summary = state_summary[state_summary['total'] >= 10].sort_values('pct_unknown', ascending=False).head(20)\n",
    "fig = plt.figure(figsize=(10,6))\n",
    "sns.barplot(y=state_summary.index, x=state_summary['pct_unknown'])\n",
    "plt.title('Top States by % Unknown Safety Plans (states with >=10 incidents)')\n",
    "plt.xlabel('% Unknown Plans')\n",
    "plt.ylabel('State')\n",
    "save_fig(fig, '07_unknown_plans_pct.png')"
   ]
  },
  {
   "cell_type": "code",
   "execution_count": 15,
   "id": "91faea5c-1199-453a-9e73-c6cebfc6cc74",
   "metadata": {},
   "outputs": [
    {
     "data": {
      "text/plain": [
       "'plots\\\\08_yoy_growth.png'"
      ]
     },
     "execution_count": 15,
     "metadata": {},
     "output_type": "execute_result"
    }
   ],
   "source": [
    "# ---------------------------\n",
    "# 8 Year-over-year growth rate (line)\n",
    "# ---------------------------\n",
    "year_totals = yearly.set_index('year')['total']\n",
    "yoy = year_totals.pct_change().fillna(0) * 100\n",
    "fig = plt.figure(figsize=(10,5))\n",
    "sns.lineplot(x=yoy.index, y=yoy.values, marker='o')\n",
    "plt.title('Year-over-Year Growth Rate in Fatalities (%)')\n",
    "plt.xlabel('Year')\n",
    "plt.ylabel('Growth Rate (%)')\n",
    "save_fig(fig, '08_yoy_growth.png')"
   ]
  },
  {
   "cell_type": "code",
   "execution_count": 16,
   "id": "d3f6643b-294e-4dc1-8b29-aded7aca81b9",
   "metadata": {},
   "outputs": [
    {
     "data": {
      "text/plain": [
       "'plots\\\\09_ladder_by_state.png'"
      ]
     },
     "execution_count": 16,
     "metadata": {},
     "output_type": "execute_result"
    }
   ],
   "source": [
    "# ---------------------------\n",
    "# 9 Ladder falls by state (top 15)\n",
    "# ---------------------------\n",
    "ladder = df[df['description'].str.contains(r'ladder', na=False)]\n",
    "ladder_by_state = ladder['state'].value_counts().head(15)\n",
    "fig = plt.figure(figsize=(10,6))\n",
    "sns.barplot(y=ladder_by_state.index, x=ladder_by_state.values)\n",
    "plt.title('Ladder-related Fatalities by State (Top 15)')\n",
    "plt.xlabel('Count')\n",
    "plt.ylabel('State')\n",
    "save_fig(fig, '09_ladder_by_state.png')"
   ]
  },
  {
   "cell_type": "code",
   "execution_count": 17,
   "id": "2f768e07-0be7-4eb7-ab2a-df81f4599d64",
   "metadata": {},
   "outputs": [
    {
     "data": {
      "text/plain": [
       "'plots\\\\10_cause_keywords.png'"
      ]
     },
     "execution_count": 17,
     "metadata": {},
     "output_type": "execute_result"
    }
   ],
   "source": [
    "# ---------------------------\n",
    "# 10 Most common causes (simple keyword buckets)\n",
    "# ---------------------------\n",
    "keywords = {\n",
    "    'fall': r'\\bfall\\b',\n",
    "    'struck': r'\\bstruck\\b|\\bstruck by\\b|\\bstruck against\\b',\n",
    "    'collapse': r'\\bcollapse\\b|\\bcollapsed\\b',\n",
    "    'heat': r'\\bheat\\b|\\bheat stroke\\b|\\bheat-related\\b',\n",
    "    'electrocution': r'\\belectrocute\\b|\\belectrocution\\b|electrocuted'\n",
    "}\n",
    "counts = {k: df['description'].str.contains(pat, na=False).sum() for k,pat in keywords.items()}\n",
    "kc = pd.Series(counts).sort_values(ascending=False)\n",
    "fig = plt.figure(figsize=(8,5))\n",
    "sns.barplot(x=kc.values, y=kc.index)\n",
    "plt.title('Counts by Cause Keywords')\n",
    "plt.xlabel('Count')\n",
    "plt.ylabel('Cause')\n",
    "save_fig(fig, '10_cause_keywords.png')"
   ]
  },
  {
   "cell_type": "code",
   "execution_count": 18,
   "id": "9b730e2c-ec57-40f0-8c18-afae4eabe55f",
   "metadata": {},
   "outputs": [
    {
     "data": {
      "text/plain": [
       "'plots\\\\11_citation_unknown_pie.png'"
      ]
     },
     "execution_count": 18,
     "metadata": {},
     "output_type": "execute_result"
    }
   ],
   "source": [
    "# ---------------------------\n",
    "# 11 Missing citations percentage (pie)\n",
    "# ---------------------------\n",
    "citation_unknown = (df['citation'] == 'unknown').sum()\n",
    "citation_known = len(df) - citation_unknown\n",
    "fig = plt.figure(figsize=(6,6))\n",
    "plt.pie([citation_known, citation_unknown], labels=['Known','Unknown'], autopct='%1.1f%%', startangle=140)\n",
    "plt.title('Known vs Unknown Citations')\n",
    "save_fig(fig, '11_citation_unknown_pie.png')"
   ]
  },
  {
   "cell_type": "code",
   "execution_count": 19,
   "id": "61170420-c14d-4302-9f01-c9406a4d5b31",
   "metadata": {},
   "outputs": [
    {
     "data": {
      "text/plain": [
       "'plots\\\\12_quarter_heatmap.png'"
      ]
     },
     "execution_count": 19,
     "metadata": {},
     "output_type": "execute_result"
    }
   ],
   "source": [
    "# ---------------------------\n",
    "# 12 Quarterly incidents heatmap (year x quarter)\n",
    "# ---------------------------\n",
    "q = df.copy()\n",
    "q['qnum'] = df['incident_date'].dt.quarter\n",
    "qt = q.groupby(['year','qnum']).size().unstack(fill_value=0)\n",
    "fig = plt.figure(figsize=(10,6))\n",
    "sns.heatmap(qt, annot=True, fmt='d', cmap='YlOrRd')\n",
    "plt.title('Incidents: Year x Quarter')\n",
    "plt.xlabel('Quarter')\n",
    "plt.ylabel('Year')\n",
    "save_fig(fig, '12_quarter_heatmap.png')"
   ]
  },
  {
   "cell_type": "code",
   "execution_count": 20,
   "id": "feedc13b-29a6-4aa7-8983-702a42d8a7a2",
   "metadata": {},
   "outputs": [
    {
     "data": {
      "text/plain": [
       "'plots\\\\13_heat_states.png'"
      ]
     },
     "execution_count": 20,
     "metadata": {},
     "output_type": "execute_result"
    }
   ],
   "source": [
    "# ---------------------------\n",
    "# 13 Top 10 states with heat incidents\n",
    "# ---------------------------\n",
    "heat = df[df['description'].str.contains(r'\\bheat\\b', na=False)]\n",
    "heat_top_states = heat['state'].value_counts().head(10)\n",
    "fig = plt.figure(figsize=(9,5))\n",
    "sns.barplot(x=heat_top_states.values, y=heat_top_states.index)\n",
    "plt.title('Top States by Heat-related Incidents')\n",
    "plt.xlabel('Count')\n",
    "plt.ylabel('State')\n",
    "save_fig(fig, '13_heat_states.png')"
   ]
  },
  {
   "cell_type": "code",
   "execution_count": 21,
   "id": "d1590210-db93-4e14-9936-349543d83f2f",
   "metadata": {},
   "outputs": [
    {
     "data": {
      "text/plain": [
       "'plots\\\\14_avg_per_year_by_state.png'"
      ]
     },
     "execution_count": 21,
     "metadata": {},
     "output_type": "execute_result"
    }
   ],
   "source": [
    "# ---------------------------\n",
    "# 14 Avg incidents per year by state (top 15)\n",
    "# ---------------------------\n",
    "state_year = df.groupby(['state','year']).size().reset_index(name='count')\n",
    "avg_per_year = state_year.groupby('state')['count'].mean().sort_values(ascending=False).head(15)\n",
    "fig = plt.figure(figsize=(10,6))\n",
    "sns.barplot(x=avg_per_year.values, y=avg_per_year.index)\n",
    "plt.title('Average Incidents per Year by State (Top 15)')\n",
    "plt.xlabel('Avg Incidents/Year')\n",
    "plt.ylabel('State')\n",
    "save_fig(fig, '14_avg_per_year_by_state.png')"
   ]
  },
  {
   "cell_type": "code",
   "execution_count": 22,
   "id": "aa887bbe-175b-40e8-8d15-f1f0a8d30810",
   "metadata": {},
   "outputs": [],
   "source": [
    "# ---------------------------\n",
    "# 15 Cities with > 50 incidents (bar)\n",
    "# ---------------------------\n",
    "city_counts = df['city'].value_counts()\n",
    "hot_cities = city_counts[city_counts > 50].sort_values(ascending=False)\n",
    "fig = plt.figure(figsize=(10,6))\n",
    "if len(hot_cities) > 0:\n",
    "    sns.barplot(x=hot_cities.values, y=hot_cities.index)\n",
    "    plt.title('Cities with > 50 Incidents')\n",
    "    plt.xlabel('Count')\n",
    "    plt.ylabel('City')\n",
    "    save_fig(fig, '15_cities_over_50.png')\n",
    "else:\n",
    "    # create an empty placeholder image with text\n",
    "    fig = plt.figure(figsize=(8,3))\n",
    "    plt.text(0.5, 0.5, \"No cities with > 50 incidents in dataset\", ha='center', va='center')\n",
    "    plt.axis('off')\n",
    "    save_fig(fig, '15_cities_over_50_placeholder.png')"
   ]
  },
  {
   "cell_type": "code",
   "execution_count": 23,
   "id": "5db4c409-40d4-45c0-b341-2613ed5817c4",
   "metadata": {},
   "outputs": [],
   "source": [
    "# ---------------------------\n",
    "# 16 Earliest and latest incident (write to text)\n",
    "# ---------------------------\n",
    "earliest = df['incident_date'].min().strftime('%Y-%m-%d')\n",
    "latest = df['incident_date'].max().strftime('%Y-%m-%d')\n",
    "with open(os.path.join(PLOTS_DIR, '16_date_range.txt'), 'w') as f:\n",
    "    f.write(f'Earliest incident: {earliest}\\nLatest incident: {latest}\\n')"
   ]
  },
  {
   "cell_type": "code",
   "execution_count": 24,
   "id": "0e803077-6ba1-4d1a-8ac2-6732dc48ff0d",
   "metadata": {},
   "outputs": [
    {
     "data": {
      "text/plain": [
       "'plots\\\\17_top_words.png'"
      ]
     },
     "execution_count": 24,
     "metadata": {},
     "output_type": "execute_result"
    }
   ],
   "source": [
    "# ---------------------------\n",
    "# 17 Top 10 most common words in descriptions (simple tokenizer)\n",
    "# ---------------------------\n",
    "def simple_tokenize(text):\n",
    "    text = re.sub(r'[^\\w\\s]', ' ', text)  # remove punctuation\n",
    "    tokens = text.lower().split()\n",
    "    stopwords = set(['the','a','an','and','of','on','in','at','to','was','is','by','for','with','from','worker','victim'])\n",
    "    return [t for t in tokens if t not in stopwords and len(t) > 2]\n",
    "\n",
    "all_tokens = []\n",
    "for desc in df['description'].dropna().astype(str):\n",
    "    all_tokens.extend(simple_tokenize(desc))\n",
    "\n",
    "top_words = Counter(all_tokens).most_common(20)\n",
    "tw_df = pd.DataFrame(top_words, columns=['word','count']).set_index('word')\n",
    "fig = plt.figure(figsize=(10,6))\n",
    "sns.barplot(x=tw_df['count'], y=tw_df.index)\n",
    "plt.title('Top Words in Descriptions')\n",
    "plt.xlabel('Frequency')\n",
    "plt.ylabel('Word')\n",
    "save_fig(fig, '17_top_words.png')"
   ]
  },
  {
   "cell_type": "code",
   "execution_count": 25,
   "id": "65bdfbc1-e4f4-4abc-aa36-8ee6ef815945",
   "metadata": {},
   "outputs": [
    {
     "data": {
      "text/plain": [
       "'plots\\\\18_states_in_top5_years.png'"
      ]
     },
     "execution_count": 25,
     "metadata": {},
     "output_type": "execute_result"
    }
   ],
   "source": [
    "# ---------------------------\n",
    "# 18 States appearing in top5 each year (count years in top5)\n",
    "# ---------------------------\n",
    "ranked = df.groupby(['year','state']).size().reset_index(name='total')\n",
    "ranked['rank'] = ranked.groupby('year')['total'].rank(method='dense', ascending=False)\n",
    "top5_yearly = ranked[ranked['rank'] <= 5]\n",
    "top_states_persistent = top5_yearly['state'].value_counts().head(20)\n",
    "fig = plt.figure(figsize=(9,6))\n",
    "sns.barplot(x=top_states_persistent.values, y=top_states_persistent.index)\n",
    "plt.title('States Appearing in Top 5 by Year (Count of Years)')\n",
    "plt.xlabel('Years in Top 5')\n",
    "plt.ylabel('State')\n",
    "save_fig(fig, '18_states_in_top5_years.png')"
   ]
  },
  {
   "cell_type": "code",
   "execution_count": 26,
   "id": "0c856456-a3ac-4c16-8edc-0f5f72c545a7",
   "metadata": {},
   "outputs": [
    {
     "data": {
      "text/plain": [
       "'plots\\\\19_day_of_week_sorted.png'"
      ]
     },
     "execution_count": 26,
     "metadata": {},
     "output_type": "execute_result"
    }
   ],
   "source": [
    "# ---------------------------\n",
    "# 19 Day-of-week counts (same as 2) - create another visualization sorted\n",
    "# ---------------------------\n",
    "fig = plt.figure(figsize=(9,5))\n",
    "dow_sorted = df['day_of_week'].value_counts().sort_values(ascending=False)\n",
    "sns.barplot(x=dow_sorted.values, y=dow_sorted.index)\n",
    "plt.title('Day of Week - Sorted by Count')\n",
    "plt.xlabel('Count')\n",
    "plt.ylabel('Day')\n",
    "save_fig(fig, '19_day_of_week_sorted.png')"
   ]
  },
  {
   "cell_type": "code",
   "execution_count": 27,
   "id": "d9ba88bb-2cff-4eea-aca1-3a8cb8d52ada",
   "metadata": {},
   "outputs": [],
   "source": [
    "# ---------------------------\n",
    "# 20 Incidents mentioning both \"roof\" and \"fall\"\n",
    "# ---------------------------\n",
    "roof_fall = df[df['description'].str.contains(r'roof', na=False) & df['description'].str.contains(r'\\bfall\\b', na=False)]\n",
    "with open(os.path.join(PLOTS_DIR, '20_roof_and_fall_count.txt'), 'w') as f:\n",
    "    f.write(f'Incidents mentioning both \"roof\" and \"fall\": {len(roof_fall)}\\n')"
   ]
  },
  {
   "cell_type": "code",
   "execution_count": 28,
   "id": "39aa2d63-b8bc-4065-af7c-6694893970a0",
   "metadata": {},
   "outputs": [
    {
     "data": {
      "text/plain": [
       "'plots\\\\21_weekday_vs_weekend.png'"
      ]
     },
     "execution_count": 28,
     "metadata": {},
     "output_type": "execute_result"
    }
   ],
   "source": [
    "# ---------------------------\n",
    "# 21 Weekday vs Weekend comparison (bar)\n",
    "# ---------------------------\n",
    "df['day_type'] = np.where(df['day_of_week'].isin(['saturday','sunday']), 'Weekend', 'Weekday')\n",
    "dt_counts = df['day_type'].value_counts()\n",
    "fig = plt.figure(figsize=(6,4))\n",
    "sns.barplot(x=dt_counts.index, y=dt_counts.values)\n",
    "plt.title('Weekday vs Weekend Incidents')\n",
    "plt.xlabel('Day Type')\n",
    "plt.ylabel('Count')\n",
    "save_fig(fig, '21_weekday_vs_weekend.png')"
   ]
  },
  {
   "cell_type": "code",
   "execution_count": 29,
   "id": "0477a81b-7889-4705-bdec-6922a8aab6eb",
   "metadata": {},
   "outputs": [
    {
     "data": {
      "text/plain": [
       "'plots\\\\22_rolling_12m.png'"
      ]
     },
     "execution_count": 29,
     "metadata": {},
     "output_type": "execute_result"
    }
   ],
   "source": [
    "# ---------------------------\n",
    "# 22 Rolling 12-month fatalities trend (line)\n",
    "# ---------------------------\n",
    "monthly_counts = df.groupby('ym').size().reset_index(name='count')\n",
    "monthly_counts['ym_dt'] = pd.to_datetime(monthly_counts['ym'].astype(str) + '-01', errors='coerce')\n",
    "monthly_counts = monthly_counts.sort_values('ym_dt')\n",
    "monthly_counts['rolling_12m'] = monthly_counts['count'].rolling(window=12, min_periods=1).sum()\n",
    "fig = plt.figure(figsize=(12,5))\n",
    "sns.lineplot(x='ym_dt', y='rolling_12m', data=monthly_counts, marker='o')\n",
    "plt.title('Rolling 12-month Fatalities')\n",
    "plt.xlabel('Date')\n",
    "plt.ylabel('Rolling 12M Total')\n",
    "plt.xticks(rotation=30)\n",
    "save_fig(fig, '22_rolling_12m.png')"
   ]
  },
  {
   "cell_type": "code",
   "execution_count": 30,
   "id": "847ba463-0327-4676-b869-fcc8962a6eb9",
   "metadata": {},
   "outputs": [
    {
     "data": {
      "text/plain": [
       "'plots\\\\23_states_unknown_citations.png'"
      ]
     },
     "execution_count": 30,
     "metadata": {},
     "output_type": "execute_result"
    }
   ],
   "source": [
    "# ---------------------------\n",
    "# 23 States with incidents but high unknown citations %\n",
    "# ---------------------------\n",
    "state_tot = df.groupby('state').size().rename('total')\n",
    "state_unknown_cit = df[df['citation']=='unknown'].groupby('state').size().rename('unknown_cit')\n",
    "state_cit_summary = pd.concat([state_tot, state_unknown_cit], axis=1).fillna(0)\n",
    "state_cit_summary['pct_unknown_cit'] = 100.0 * state_cit_summary['unknown_cit'] / state_cit_summary['total']\n",
    "state_cit_summary = state_cit_summary[state_cit_summary['total'] >= 10].sort_values('pct_unknown_cit', ascending=False).head(20)\n",
    "fig = plt.figure(figsize=(10,6))\n",
    "sns.barplot(y=state_cit_summary.index, x=state_cit_summary['pct_unknown_cit'])\n",
    "plt.title('States with High % Unknown Citations (states with >=10 incidents)')\n",
    "plt.xlabel('% Unknown Citations')\n",
    "plt.ylabel('State')\n",
    "save_fig(fig, '23_states_unknown_citations.png')"
   ]
  },
  {
   "cell_type": "code",
   "execution_count": 34,
   "id": "4fd082d2-ca58-462d-965c-9c2826032547",
   "metadata": {},
   "outputs": [],
   "source": [
    "# ---------------------------\n",
    "# 24 Top 5 years with most fatalities\n",
    "# ---------------------------\n",
    "yearly = df.groupby(df['incident_date'].dt.year).size().reset_index(name='Total_Incidents')\n",
    "yearly = yearly.rename(columns={'incident_date': 'Year'})\n",
    "\n",
    "top5_years = yearly.sort_values('Total_Incidents', ascending=False).head(5)\n",
    "\n",
    "fig = plt.figure(figsize=(8,4))\n",
    "sns.barplot(x='Year', y='Total_Incidents', data=top5_years)\n",
    "plt.title('Top 5 Years by Fatalities')\n",
    "plt.xlabel('Year')\n",
    "plt.ylabel('Total Incidents')\n",
    "save_fig(fig, '24_top5_years.png')\n",
    "plt.show()"
   ]
  },
  {
   "cell_type": "code",
   "execution_count": 32,
   "id": "82bb58c0-e1a1-4056-b66a-abda843740db",
   "metadata": {},
   "outputs": [
    {
     "data": {
      "text/plain": [
       "'plots\\\\25_scaffold_by_year.png'"
      ]
     },
     "execution_count": 32,
     "metadata": {},
     "output_type": "execute_result"
    }
   ],
   "source": [
    "# ---------------------------\n",
    "# 25 Scaffold incidents by year (line)\n",
    "# ---------------------------\n",
    "scaffold = df[df['description'].str.contains(r'scaffold', na=False)]\n",
    "scaffold_by_year = scaffold.groupby('year').size().reset_index(name='count')\n",
    "fig = plt.figure(figsize=(10,5))\n",
    "sns.lineplot(x='year', y='count', data=scaffold_by_year, marker='o')\n",
    "plt.title('Scaffold-related Incidents by Year')\n",
    "plt.xlabel('Year')\n",
    "plt.ylabel('Count')\n",
    "save_fig(fig, '25_scaffold_by_year.png')"
   ]
  },
  {
   "cell_type": "code",
   "execution_count": null,
   "id": "70664cd0-de20-49bf-b3e5-9789ce3e9b22",
   "metadata": {},
   "outputs": [],
   "source": []
  }
 ],
 "metadata": {
  "kernelspec": {
   "display_name": "Python 3 (ipykernel)",
   "language": "python",
   "name": "python3"
  },
  "language_info": {
   "codemirror_mode": {
    "name": "ipython",
    "version": 3
   },
   "file_extension": ".py",
   "mimetype": "text/x-python",
   "name": "python",
   "nbconvert_exporter": "python",
   "pygments_lexer": "ipython3",
   "version": "3.12.7"
  }
 },
 "nbformat": 4,
 "nbformat_minor": 5
}
